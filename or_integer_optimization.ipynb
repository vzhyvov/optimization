{
 "cells": [
  {
   "cell_type": "markdown",
   "metadata": {},
   "source": [
    "Linear optimization that require some of the variables to be integers are called Mixed Integer Programs (MIPs)<br>\n",
    "\n",
    "OR-Tools provides two main tools for solving MIPs:<br>\n",
    " - MPSolver: A wrapper for several third-party MIP solvers, which use standard branch-and-bound techniques.<br>\n",
    " - CP-SAT solver: A constraint programming solver that uses SAT (satisfiability) methods.<br>"
   ]
  },
  {
   "cell_type": "markdown",
   "metadata": {},
   "source": [
    "Task:<br>\n",
    "Maximize x + 10y subject to the following constraints:<br>\n",
    "x + 7 y ≤ 17.5<br>\n",
    "x ≤ 3.5<br>\n",
    "x ≥ 0<br>\n",
    "y ≥ 0<br>\n",
    "x, y integers<br>"
   ]
  },
  {
   "cell_type": "code",
   "execution_count": 1,
   "metadata": {},
   "outputs": [],
   "source": [
    "from ortools.linear_solver import pywraplp"
   ]
  },
  {
   "cell_type": "code",
   "execution_count": 2,
   "metadata": {},
   "outputs": [],
   "source": [
    "# Create the mip solver with the SCIP backend.\n",
    "solver = pywraplp.Solver.CreateSolver('SCIP')"
   ]
  },
  {
   "cell_type": "code",
   "execution_count": 5,
   "metadata": {},
   "outputs": [
    {
     "name": "stdout",
     "output_type": "stream",
     "text": [
      "Number of variables = 2\n"
     ]
    }
   ],
   "source": [
    "infinity = solver.infinity()\n",
    "# x and y are integer non-negative variables.\n",
    "x = solver.IntVar(0.0, infinity, 'x')\n",
    "y = solver.IntVar(0.0, infinity, 'y')\n",
    "\n",
    "print('Number of variables =', solver.NumVariables())"
   ]
  },
  {
   "cell_type": "code",
   "execution_count": 6,
   "metadata": {},
   "outputs": [
    {
     "name": "stdout",
     "output_type": "stream",
     "text": [
      "Number of constraints = 2\n"
     ]
    }
   ],
   "source": [
    "# x + 7 * y <= 17.5.\n",
    "solver.Add(x + 7 * y <= 17.5)\n",
    "\n",
    "# x <= 3.5.\n",
    "solver.Add(x <= 3.5)\n",
    "\n",
    "print('Number of constraints =', solver.NumConstraints())"
   ]
  },
  {
   "cell_type": "code",
   "execution_count": 7,
   "metadata": {},
   "outputs": [],
   "source": [
    "# Maximize x + 10 * y.\n",
    "solver.Maximize(x + 10 * y)"
   ]
  },
  {
   "cell_type": "code",
   "execution_count": 8,
   "metadata": {},
   "outputs": [],
   "source": [
    "#Call status\n",
    "status = solver.Solve()"
   ]
  },
  {
   "cell_type": "code",
   "execution_count": 9,
   "metadata": {},
   "outputs": [
    {
     "name": "stdout",
     "output_type": "stream",
     "text": [
      "Solution:\n",
      "Objective value = 23.0\n",
      "x = 3.0\n",
      "y = 2.0\n"
     ]
    }
   ],
   "source": [
    "if status == pywraplp.Solver.OPTIMAL:\n",
    "    print('Solution:')\n",
    "    print('Objective value =', solver.Objective().Value())\n",
    "    print('x =', x.solution_value())\n",
    "    print('y =', y.solution_value())\n",
    "else:\n",
    "    print('The problem does not have an optimal solution.')"
   ]
  },
  {
   "cell_type": "markdown",
   "metadata": {},
   "source": [
    "# Using Arrays to Define a Model"
   ]
  },
  {
   "cell_type": "markdown",
   "metadata": {},
   "source": [
    "Maximize 7x1 + 8x2 + 2x3 + 9x4 + 6x5 subject to the following constraints:<br>\n",
    "5x1\t+\t7x2\t+\t9x3\t+\t2x4\t+\t1x5\t≤ 250<br>\n",
    "18x1\t+\t4x2\t-\t9x3\t+\t10x4 + 12x5\t≤ 285<br>\n",
    "4x1\t+\t7x2\t+\t3x3\t+\t8x4\t+\t5x5\t≤ 211<br>\n",
    "5x1\t+\t13x2\t+\t16x3\t+\t3x4\t- 7x5 ≤ 315<br>\n",
    "where x1, x2, ..., x5 are non-negative integers.<br>"
   ]
  },
  {
   "cell_type": "code",
   "execution_count": 10,
   "metadata": {},
   "outputs": [],
   "source": [
    "def create_data_model():\n",
    "  \"\"\"Stores the data for the problem.\"\"\"\n",
    "  data = {}\n",
    "  data['constraint_coeffs'] = [\n",
    "      [5, 7, 9, 2, 1],\n",
    "      [18, 4, -9, 10, 12],\n",
    "      [4, 7, 3, 8, 5],\n",
    "      [5, 13, 16, 3, -7],\n",
    "  ]\n",
    "  data['bounds'] = [250, 285, 211, 315]\n",
    "  data['obj_coeffs'] = [7, 8, 2, 9, 6]\n",
    "  data['num_vars'] = 5\n",
    "  data['num_constraints'] = 4\n",
    "  return data\n",
    "\n",
    "\n",
    "def main():\n",
    "  data = create_data_model()\n",
    "  # Create the mip solver with the SCIP backend.\n",
    "  solver = pywraplp.Solver.CreateSolver('SCIP')\n",
    "  infinity = solver.infinity()\n",
    "  x = {}\n",
    "  for j in range(data['num_vars']):\n",
    "    x[j] = solver.IntVar(0, infinity, 'x[%i]' % j)\n",
    "  print('Number of variables =', solver.NumVariables())\n",
    "\n",
    "  for i in range(data['num_constraints']):\n",
    "    constraint = solver.RowConstraint(0, data['bounds'][i], '')\n",
    "    for j in range(data['num_vars']):\n",
    "      constraint.SetCoefficient(x[j], data['constraint_coeffs'][i][j])\n",
    "  print('Number of constraints =', solver.NumConstraints())\n",
    "  # In Python, you can also set the constraints as follows.\n",
    "  # for i in range(data['num_constraints']):\n",
    "  #  constraint_expr = \\\n",
    "  # [data['constraint_coeffs'][i][j] * x[j] for j in range(data['num_vars'])]\n",
    "  #  solver.Add(sum(constraint_expr) <= data['bounds'][i])\n",
    "\n",
    "  objective = solver.Objective()\n",
    "  for j in range(data['num_vars']):\n",
    "    objective.SetCoefficient(x[j], data['obj_coeffs'][j])\n",
    "  objective.SetMaximization()\n",
    "  # In Python, you can also set the objective as follows.\n",
    "  # obj_expr = [data['obj_coeffs'][j] * x[j] for j in range(data['num_vars'])]\n",
    "  # solver.Maximize(solver.Sum(obj_expr))\n",
    "\n",
    "  status = solver.Solve()\n",
    "\n",
    "  if status == pywraplp.Solver.OPTIMAL:\n",
    "    print('Objective value =', solver.Objective().Value())\n",
    "    for j in range(data['num_vars']):\n",
    "      print(x[j].name(), ' = ', x[j].solution_value())\n",
    "    print()\n",
    "    print('Problem solved in %f milliseconds' % solver.wall_time())\n",
    "    print('Problem solved in %d iterations' % solver.iterations())\n",
    "    print('Problem solved in %d branch-and-bound nodes' % solver.nodes())\n",
    "  else:\n",
    "    print('The problem does not have an optimal solution.')"
   ]
  },
  {
   "cell_type": "code",
   "execution_count": 11,
   "metadata": {},
   "outputs": [
    {
     "name": "stdout",
     "output_type": "stream",
     "text": [
      "Number of variables = 5\n",
      "Number of constraints = 4\n",
      "Objective value = 260.0000000000005\n",
      "x[0]  =  8.0\n",
      "x[1]  =  21.0\n",
      "x[2]  =  0.0\n",
      "x[3]  =  2.0\n",
      "x[4]  =  3.0\n",
      "\n",
      "Problem solved in 28.000000 milliseconds\n",
      "Problem solved in 54 iterations\n",
      "Problem solved in 7 branch-and-bound nodes\n"
     ]
    }
   ],
   "source": [
    "main()"
   ]
  },
  {
   "cell_type": "code",
   "execution_count": null,
   "metadata": {},
   "outputs": [],
   "source": []
  }
 ],
 "metadata": {
  "kernelspec": {
   "display_name": "Python 3",
   "language": "python",
   "name": "python3"
  },
  "language_info": {
   "codemirror_mode": {
    "name": "ipython",
    "version": 3
   },
   "file_extension": ".py",
   "mimetype": "text/x-python",
   "name": "python",
   "nbconvert_exporter": "python",
   "pygments_lexer": "ipython3",
   "version": "3.8.3"
  }
 },
 "nbformat": 4,
 "nbformat_minor": 4
}
