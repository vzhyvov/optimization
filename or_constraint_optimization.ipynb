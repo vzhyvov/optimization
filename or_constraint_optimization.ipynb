{
 "cells": [
  {
   "cell_type": "code",
   "execution_count": 1,
   "metadata": {},
   "outputs": [],
   "source": [
    "#constraint programming (CP)\n",
    "#Пример задач - составление расписания\n",
    "#То есть задачи которые ищут подходящее но не всегда оптимальное решение"
   ]
  },
  {
   "cell_type": "markdown",
   "metadata": {},
   "source": [
    "# Simple example"
   ]
  },
  {
   "cell_type": "markdown",
   "metadata": {},
   "source": [
    "- Three variables, x, y, and z, each of which can take on the values: 0, 1, or 2<br>\n",
    "- One constraint: x ≠ y"
   ]
  },
  {
   "cell_type": "code",
   "execution_count": 2,
   "metadata": {},
   "outputs": [
    {
     "name": "stdout",
     "output_type": "stream",
     "text": [
      "Object `model.NewIntVar` not found.\n"
     ]
    }
   ],
   "source": [
    "model.NewIntVar?"
   ]
  },
  {
   "cell_type": "code",
   "execution_count": 3,
   "metadata": {},
   "outputs": [
    {
     "name": "stdout",
     "output_type": "stream",
     "text": [
      "x = 1\n",
      "y = 0\n",
      "z = 0\n"
     ]
    }
   ],
   "source": [
    "from ortools.sat.python import cp_model\n",
    "\n",
    "# Creates the model.\n",
    "model = cp_model.CpModel()\n",
    "\n",
    "# Creates the variables.\n",
    "num_vals = 3\n",
    "x = model.NewIntVar(0, num_vals - 1, 'x') #lower bound, upper bound, name\n",
    "y = model.NewIntVar(0, num_vals - 1, 'y')\n",
    "z = model.NewIntVar(0, num_vals - 1, 'z')\n",
    "\n",
    "# Creates the constraints.\n",
    "model.Add(x != y)\n",
    "\n",
    "# Creates a solver and solves the model.\n",
    "solver = cp_model.CpSolver()\n",
    "status = solver.Solve(model)\n",
    "\n",
    "if status == cp_model.OPTIMAL:\n",
    "    print('x = %i' % solver.Value(x))\n",
    "    print('y = %i' % solver.Value(y))\n",
    "    print('z = %i' % solver.Value(z))"
   ]
  },
  {
   "cell_type": "markdown",
   "metadata": {},
   "source": [
    "# Finding all solutions"
   ]
  },
  {
   "cell_type": "code",
   "execution_count": 5,
   "metadata": {},
   "outputs": [],
   "source": [
    "class VarArraySolutionPrinter(cp_model.CpSolverSolutionCallback):\n",
    "    \"\"\"Print intermediate solutions.\"\"\"\n",
    "\n",
    "    def __init__(self, variables):\n",
    "        cp_model.CpSolverSolutionCallback.__init__(self)\n",
    "        self.__variables = variables\n",
    "        self.__solution_count = 0\n",
    "\n",
    "    def on_solution_callback(self):\n",
    "        self.__solution_count += 1\n",
    "        for v in self.__variables:\n",
    "            print('%s=%i' % (v, self.Value(v)), end=' ')\n",
    "        print()\n",
    "\n",
    "    def solution_count(self):\n",
    "        return self.__solution_count"
   ]
  },
  {
   "cell_type": "code",
   "execution_count": 6,
   "metadata": {},
   "outputs": [
    {
     "name": "stdout",
     "output_type": "stream",
     "text": [
      "x=1 y=2 z=0 \n",
      "x=1 y=0 z=0 \n",
      "x=2 y=0 z=0 \n",
      "x=2 y=1 z=0 \n",
      "x=2 y=1 z=1 \n",
      "x=2 y=0 z=1 \n",
      "x=1 y=0 z=1 \n",
      "x=1 y=2 z=1 \n",
      "x=1 y=2 z=2 \n",
      "x=1 y=0 z=2 \n",
      "x=2 y=0 z=2 \n",
      "x=2 y=1 z=2 \n",
      "x=0 y=1 z=2 \n",
      "x=0 y=1 z=1 \n",
      "x=0 y=1 z=0 \n",
      "x=0 y=2 z=0 \n",
      "x=0 y=2 z=1 \n",
      "x=0 y=2 z=2 \n"
     ]
    }
   ],
   "source": [
    "solver = cp_model.CpSolver()\n",
    "solution_printer = VarArraySolutionPrinter([x, y, z])\n",
    "status = solver.SearchForAllSolutions(model, solution_printer)"
   ]
  },
  {
   "cell_type": "markdown",
   "metadata": {},
   "source": [
    "# Solving an Optimization Problem"
   ]
  },
  {
   "cell_type": "markdown",
   "metadata": {},
   "source": [
    "we'll show how to find an optimal solution<br>\n",
    "\n",
    "Maximize 2x + 2y + 3z subject to the following constraints:<br>\n",
    "x + 7⁄2 y + 3⁄2 z\t≤\t25<br>\n",
    "3x - 5y + 7z\t≤\t45<br>\n",
    "5x + 2y - 6z\t≤\t37<br>\n",
    "x, y, z\t≥\t0<br>\n",
    "x, y, z integers<br>"
   ]
  },
  {
   "cell_type": "markdown",
   "metadata": {},
   "source": [
    "In order to increase computational speed, the CP-SAT solver works over the integers. This means all constraints and the objective must have integer coefficients. In the above example, the first constraint doesn't meet this condition. To solve the problem, you must first transform the constraint by multiplying it by a sufficiently large integer to convert all the coefficients to integers."
   ]
  },
  {
   "cell_type": "code",
   "execution_count": 7,
   "metadata": {},
   "outputs": [
    {
     "name": "stdout",
     "output_type": "stream",
     "text": [
      "Maximum of objective function: 35\n",
      "\n",
      "x value:  7\n",
      "y value:  3\n",
      "z value:  5\n"
     ]
    }
   ],
   "source": [
    "from ortools.sat.python import cp_model\n",
    "\n",
    "model = cp_model.CpModel()\n",
    "var_upper_bound = max(50, 45, 37)\n",
    "x = model.NewIntVar(0, var_upper_bound, 'x')\n",
    "y = model.NewIntVar(0, var_upper_bound, 'y')\n",
    "z = model.NewIntVar(0, var_upper_bound, 'z')\n",
    "\n",
    "model.Add(2*x + 7*y + 3*z <= 50)\n",
    "model.Add(3*x - 5*y + 7*z <= 45)\n",
    "model.Add(5*x + 2*y - 6*z <= 37)\n",
    "\n",
    "model.Maximize(2*x + 2*y + 3*z)\n",
    "\n",
    "solver = cp_model.CpSolver()\n",
    "status = solver.Solve(model)\n",
    "\n",
    "if status == cp_model.OPTIMAL:\n",
    "    print('Maximum of objective function: %i' % solver.ObjectiveValue())\n",
    "    print()\n",
    "    print('x value: ', solver.Value(x))\n",
    "    print('y value: ', solver.Value(y))\n",
    "    print('z value: ', solver.Value(z))"
   ]
  },
  {
   "cell_type": "markdown",
   "metadata": {},
   "source": [
    "# Setting solver limits"
   ]
  },
  {
   "cell_type": "code",
   "execution_count": null,
   "metadata": {},
   "outputs": [],
   "source": [
    "solver.parameters.max_time_in_seconds = 10.0"
   ]
  },
  {
   "cell_type": "code",
   "execution_count": 8,
   "metadata": {},
   "outputs": [
    {
     "name": "stdout",
     "output_type": "stream",
     "text": [
      "x=0 y=0 z=0 \n",
      "x=0 y=1 z=0 \n",
      "x=0 y=1 z=1 \n",
      "x=0 y=0 z=1 \n",
      "x=0 y=2 z=1 \n",
      "Stop search after 5 solutions\n",
      "Status = FEASIBLE\n",
      "Number of solutions found: 5\n"
     ]
    }
   ],
   "source": [
    "#Stopping a search after a specified number of solutions\n",
    "from ortools.sat.python import cp_model\n",
    "\n",
    "\n",
    "class VarArraySolutionPrinterWithLimit(cp_model.CpSolverSolutionCallback):\n",
    "    \"\"\"Print intermediate solutions.\"\"\"\n",
    "\n",
    "    def __init__(self, variables, limit):\n",
    "        cp_model.CpSolverSolutionCallback.__init__(self)\n",
    "        self.__variables = variables\n",
    "        self.__solution_count = 0\n",
    "        self.__solution_limit = limit\n",
    "\n",
    "    def on_solution_callback(self):\n",
    "        self.__solution_count += 1\n",
    "        for v in self.__variables:\n",
    "            print('%s=%i' % (v, self.Value(v)), end=' ')\n",
    "        print()\n",
    "        if self.__solution_count >= self.__solution_limit:\n",
    "            print('Stop search after %i solutions' % self.__solution_limit)\n",
    "            self.StopSearch()\n",
    "\n",
    "    def solution_count(self):\n",
    "        return self.__solution_count\n",
    "\n",
    "\n",
    "def StopAfterNSolutionsSampleSat():\n",
    "    \"\"\"Showcases calling the solver to search for small number of solutions.\"\"\"\n",
    "    # Creates the model.\n",
    "    model = cp_model.CpModel()\n",
    "    # Creates the variables.\n",
    "    num_vals = 3\n",
    "    x = model.NewIntVar(0, num_vals - 1, 'x')\n",
    "    y = model.NewIntVar(0, num_vals - 1, 'y')\n",
    "    z = model.NewIntVar(0, num_vals - 1, 'z')\n",
    "\n",
    "    # Create a solver and solve.\n",
    "    solver = cp_model.CpSolver()\n",
    "    solution_printer = VarArraySolutionPrinterWithLimit([x, y, z], 5)\n",
    "    status = solver.SearchForAllSolutions(model, solution_printer)\n",
    "    print('Status = %s' % solver.StatusName(status))\n",
    "    print('Number of solutions found: %i' % solution_printer.solution_count())\n",
    "    assert solution_printer.solution_count() == 5\n",
    "\n",
    "StopAfterNSolutionsSampleSat()"
   ]
  },
  {
   "cell_type": "code",
   "execution_count": null,
   "metadata": {},
   "outputs": [],
   "source": []
  }
 ],
 "metadata": {
  "kernelspec": {
   "display_name": "Python 3",
   "language": "python",
   "name": "python3"
  },
  "language_info": {
   "codemirror_mode": {
    "name": "ipython",
    "version": 3
   },
   "file_extension": ".py",
   "mimetype": "text/x-python",
   "name": "python",
   "nbconvert_exporter": "python",
   "pygments_lexer": "ipython3",
   "version": "3.8.3"
  }
 },
 "nbformat": 4,
 "nbformat_minor": 4
}
