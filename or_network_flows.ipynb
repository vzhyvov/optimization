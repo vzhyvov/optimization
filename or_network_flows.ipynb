{
 "cells": [
  {
   "cell_type": "markdown",
   "metadata": {},
   "source": [
    "# Maximum Flows"
   ]
  },
  {
   "cell_type": "markdown",
   "metadata": {},
   "source": [
    "We wish to transport material from node 0 (the source) to node 4 (the sink). The numbers next to the arcs are their capacities — the capacity of an arc is the maximum amount that can be transported across it in a fixed period of time.<br>\n",
    "\n",
    "The max flow problem is to find a flow for which the sum of the flow amounts for the entire network is as large as possible."
   ]
  },
  {
   "cell_type": "code",
   "execution_count": 1,
   "metadata": {},
   "outputs": [
    {
     "name": "stdout",
     "output_type": "stream",
     "text": [
      "Max flow: 60\n",
      "\n",
      "  Arc    Flow / Capacity\n",
      "0 -> 1    20  /  20\n",
      "0 -> 2    30  /  30\n",
      "0 -> 3    10  /  10\n",
      "1 -> 2     0  /  40\n",
      "1 -> 4    20  /  30\n",
      "2 -> 3    10  /  10\n",
      "2 -> 4    20  /  20\n",
      "3 -> 2     0  /   5\n",
      "3 -> 4    20  /  20\n",
      "Source side min-cut: [0]\n",
      "Sink side min-cut: [4, 1]\n"
     ]
    }
   ],
   "source": [
    "\"\"\"From Taha 'Introduction to Operations Research', example 6.4-2.\"\"\"\n",
    "\n",
    "from __future__ import print_function\n",
    "from ortools.graph import pywrapgraph\n",
    "\n",
    "def main():\n",
    "  \"\"\"MaxFlow simple interface example.\"\"\"\n",
    "\n",
    "  # Define three parallel arrays: start_nodes, end_nodes, and the capacities\n",
    "  # between each pair. For instance, the arc from node 0 to node 1 has a\n",
    "  # capacity of 20.\n",
    "\n",
    "  start_nodes = [0, 0, 0, 1, 1, 2, 2, 3, 3]\n",
    "  end_nodes = [1, 2, 3, 2, 4, 3, 4, 2, 4]\n",
    "  capacities = [20, 30, 10, 40, 30, 10, 20, 5, 20]\n",
    "\n",
    "  # Instantiate a SimpleMaxFlow solver.\n",
    "  max_flow = pywrapgraph.SimpleMaxFlow()\n",
    "  # Add each arc.\n",
    "  for i in range(0, len(start_nodes)):\n",
    "    max_flow.AddArcWithCapacity(start_nodes[i], end_nodes[i], capacities[i])\n",
    "\n",
    "  # Find the maximum flow between node 0 and node 4.\n",
    "  if max_flow.Solve(0, 4) == max_flow.OPTIMAL:\n",
    "    print('Max flow:', max_flow.OptimalFlow())\n",
    "    print('')\n",
    "    print('  Arc    Flow / Capacity')\n",
    "    for i in range(max_flow.NumArcs()):\n",
    "      print('%1s -> %1s   %3s  / %3s' % (\n",
    "          max_flow.Tail(i),\n",
    "          max_flow.Head(i),\n",
    "          max_flow.Flow(i),\n",
    "          max_flow.Capacity(i)))\n",
    "    print('Source side min-cut:', max_flow.GetSourceSideMinCut())\n",
    "    print('Sink side min-cut:', max_flow.GetSinkSideMinCut())\n",
    "  else:\n",
    "    print('There was an issue with the max flow input.')\n",
    "\n",
    "main()"
   ]
  },
  {
   "cell_type": "markdown",
   "metadata": {},
   "source": [
    "# Assignment as a Minimum Cost Flow Problem"
   ]
  },
  {
   "cell_type": "markdown",
   "metadata": {},
   "source": [
    "## Linear assignment example"
   ]
  },
  {
   "cell_type": "markdown",
   "metadata": {},
   "source": [
    "This section show how to solve the example, described in the section Linear Assignment Solver (worker as a source and task as a sink), as a min cost flow problem."
   ]
  },
  {
   "cell_type": "code",
   "execution_count": 3,
   "metadata": {},
   "outputs": [
    {
     "name": "stdout",
     "output_type": "stream",
     "text": [
      "Total cost =  250\n",
      "\n",
      "Worker 1 assigned to task 9.  Cost = 75\n",
      "Worker 2 assigned to task 7.  Cost = 35\n",
      "Worker 5 assigned to task 10.  Cost = 75\n",
      "Worker 6 assigned to task 8.  Cost = 65\n"
     ]
    }
   ],
   "source": [
    "from __future__ import print_function\n",
    "from ortools.graph import pywrapgraph\n",
    "import time\n",
    "\n",
    "def main():\n",
    "  min_cost_flow = pywrapgraph.SimpleMinCostFlow()\n",
    "  \n",
    "  # Define the directed graph for the flow.\n",
    "  team_A = [1, 3, 5]\n",
    "  team_B = [2, 4, 6]\n",
    "\n",
    "  start_nodes = ([0, 0]  + [11, 11, 11] + [12, 12, 12] +\n",
    "                 [1, 1, 1, 1, 2, 2, 2, 2, 3, 3, 3, 3, 4, 4, 4, 4, 5, 5, 5, 5, 6, 6, 6, 6] +\n",
    "                 [7, 8, 9, 10])\n",
    "  end_nodes =   ([11, 12] + team_A + team_B +\n",
    "                 [7, 8, 9, 10, 7, 8, 9, 10, 7, 8, 9, 10, 7, 8, 9, 10, 7, 8, 9, 10, 7, 8, 9, 10] +\n",
    "                 [13, 13, 13, 13])\n",
    "  capacities =  ([2, 2] + [1, 1, 1] + [1, 1, 1] +\n",
    "                 [1, 1, 1, 1, 1, 1, 1, 1, 1, 1, 1, 1, 1, 1, 1, 1, 1, 1, 1, 1, 1, 1, 1, 1] +\n",
    "                 [1, 1, 1, 1])\n",
    "  costs      =  ([0, 0] + [0, 0, 0] + [0, 0, 0] +\n",
    "                 [90, 76, 75, 70, 35, 85, 55, 65, 125, 95, 90, 105, 45, 110, 95, 115, 60, 105,\n",
    "                  80, 75, 45, 65, 110, 95] + [0, 0, 0, 0])\n",
    "\n",
    "  # Define an array of supplies at each node.\n",
    "\n",
    "  supplies = [4, 0, 0, 0, 0, 0, 0, 0, 0, 0, 0, 0, 0, -4]\n",
    "  source = 0\n",
    "  sink = 13\n",
    "\n",
    "  # Add each arc.\n",
    "  for i in range(0, len(start_nodes)):\n",
    "    min_cost_flow.AddArcWithCapacityAndUnitCost(start_nodes[i], end_nodes[i],\n",
    "                                                capacities[i], costs[i])\n",
    "\n",
    "  # Add node supplies.\n",
    "\n",
    "  for i in range(0, len(supplies)):\n",
    "    min_cost_flow.SetNodeSupply(i, supplies[i])\n",
    "  # Find the minimum cost flow between node 0 and node 10.\n",
    "  if min_cost_flow.Solve() == min_cost_flow.OPTIMAL:\n",
    "    min_cost_flow.Solve()\n",
    "    print('Total cost = ', min_cost_flow.OptimalCost())\n",
    "    print()\n",
    "\n",
    "    for arc in range(min_cost_flow.NumArcs()):\n",
    "\n",
    "      # Can ignore arcs leading out of source or intermediate nodes, or into sink.\n",
    "      if (min_cost_flow.Tail(arc)!=0 and min_cost_flow.Tail(arc)!=11 and min_cost_flow.Tail(arc)!=12\n",
    "          and min_cost_flow.Head(arc)!=13):\n",
    "\n",
    "        # Arcs in the solution will have a flow value of 1. There start and end nodes\n",
    "        # give an assignment of worker to task.\n",
    "\n",
    "        if min_cost_flow.Flow(arc) > 0:\n",
    "          print('Worker %d assigned to task %d.  Cost = %d' % (\n",
    "                min_cost_flow.Tail(arc),\n",
    "                min_cost_flow.Head(arc),\n",
    "                min_cost_flow.UnitCost(arc)))\n",
    "  else:\n",
    "    print('There was an issue with the min cost flow input.')\n",
    "\n",
    "main()"
   ]
  },
  {
   "cell_type": "code",
   "execution_count": null,
   "metadata": {},
   "outputs": [],
   "source": []
  }
 ],
 "metadata": {
  "kernelspec": {
   "display_name": "Python 3",
   "language": "python",
   "name": "python3"
  },
  "language_info": {
   "codemirror_mode": {
    "name": "ipython",
    "version": 3
   },
   "file_extension": ".py",
   "mimetype": "text/x-python",
   "name": "python",
   "nbconvert_exporter": "python",
   "pygments_lexer": "ipython3",
   "version": "3.8.3"
  }
 },
 "nbformat": 4,
 "nbformat_minor": 4
}
